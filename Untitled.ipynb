{
 "cells": [
  {
   "cell_type": "code",
   "execution_count": 1,
   "id": "b582aeee",
   "metadata": {},
   "outputs": [],
   "source": [
    "from alpha_vantage.timeseries import TimeSeries\n",
    "import pandas as pd\n",
    "import numpy as np"
   ]
  },
  {
   "cell_type": "code",
   "execution_count": 2,
   "id": "1c2179bb",
   "metadata": {},
   "outputs": [],
   "source": [
    "class ScriptData(object):\n",
    "    def init(self):\n",
    "        self.__intraday=None\n",
    "        self._daily=None\n",
    "\n",
    "    def fetch_intradaydata(self, script):\n",
    "        self.script = script\n",
    "        ts = TimeSeries(key='0E1N7QGF1O5MOIC6', output_format='pandas')\n",
    "        data = ts.get_intraday(script)\n",
    "        print(data)\n",
    "        \n",
    "    def convert_intraday_data(self, script):\n",
    "        self.script = script\n",
    "        ts = TimeSeries(key='0E1N7QGF1O5MOIC6', output_format='pandas')\n",
    "        data, _ = ts.get_intraday(script)\n",
    "        data = data[['1. open', '2. high', '3. low', '4. close', '5. volume']]\n",
    "        data.rename(columns={'1. open': 'open', '2. high': 'high', '3. low': 'low', '4. close': 'close', '5. volume': 'volume'}, inplace=True)\n",
    "        data['open'] = data['open'].astype(float)\n",
    "        data['high'] = data['high'].astype(float)\n",
    "        data['low'] = data['low'].astype(float)\n",
    "        data['close'] = data['close'].astype(float)\n",
    "        data['volume'] = data['volume'].astype(int)\n",
    "        self.intraday_df = pd.DataFrame(data)\n",
    "    \n",
    "    def indicator1(self,df, timeperiod):\n",
    "        df = df.copy()\n",
    "        df['timestamp'] = df.index\n",
    "        df['indicator'] = df['close'].rolling(window=timeperiod).mean()\n",
    "        print(df[['timestamp', 'indicator']])\n",
    "        return df[['timestamp', 'indicator']]\n",
    "\n",
    "class Strategy:\n",
    "    def __init__(self, script):\n",
    "        self.script = script\n",
    "        self.script_data = ScriptData()\n",
    "        self.script_data.convert_intraday_data(self.script)\n",
    "        self.df = self.script_data.intraday_df\n",
    "        self.close_data = self.df['close']\n",
    "        self.indicator_df = self.script_data.indicator1(self.df, 5)\n",
    "        self.indicator_data = self.indicator_df['indicator']\n",
    "\n",
    "    def generate_signals(self):\n",
    "        signals = []\n",
    "        for i in range(len(self.df) - 1):\n",
    "            if self.indicator_data[i] < self.close_data[i] and self.indicator_data[i + 1] > self.close_data[i + 1]:\n",
    "                signals.append(\"BUY\")\n",
    "            elif self.indicator_data[i] > self.close_data[i] and self.indicator_data[i + 1] < self.close_data[i + 1]:\n",
    "                signals.append(\"SELL\")\n",
    "            else:\n",
    "                signals.append(\"NO_SIGNAL\")\n",
    "        self.signals_df = pd.DataFrame({'timestamp': self.indicator_df['timestamp'][:-1], 'signal': signals})\n",
    "        return self.signals_df"
   ]
  },
  {
   "cell_type": "code",
   "execution_count": 3,
   "id": "509a9828",
   "metadata": {},
   "outputs": [
    {
     "name": "stdout",
     "output_type": "stream",
     "text": [
      "(                     1. open  2. high  3. low  4. close  5. volume\n",
      "date                                                              \n",
      "2023-02-10 20:00:00   94.590   94.690  94.580   94.6900     9188.0\n",
      "2023-02-10 19:45:00   94.580   94.680  94.570   94.6300    11726.0\n",
      "2023-02-10 19:30:00   94.600   94.640  94.580   94.6000     2659.0\n",
      "2023-02-10 19:15:00   94.650   94.650  94.600   94.6200     1361.0\n",
      "2023-02-10 19:00:00   94.590   94.660  94.560   94.6000    11623.0\n",
      "...                      ...      ...     ...       ...        ...\n",
      "2023-02-09 12:15:00   94.205   94.490  94.030   94.0350  3706851.0\n",
      "2023-02-09 12:00:00   94.315   94.315  93.855   94.2000  5848135.0\n",
      "2023-02-09 11:45:00   94.685   94.930  94.150   94.3200  5092623.0\n",
      "2023-02-09 11:30:00   95.025   95.060  94.290   94.6801  4341475.0\n",
      "2023-02-09 11:15:00   95.455   95.465  94.510   95.0200  6918608.0\n",
      "\n",
      "[100 rows x 5 columns], {'1. Information': 'Intraday (15min) open, high, low, close prices and volume', '2. Symbol': 'GOOGL', '3. Last Refreshed': '2023-02-10 20:00:00', '4. Interval': '15min', '5. Output Size': 'Compact', '6. Time Zone': 'US/Eastern'})\n"
     ]
    }
   ],
   "source": [
    "script_data=ScriptData()\n",
    "script_data.fetch_intradaydata('GOOGL')\n",
    "script_data.convert_intraday_data('GOOGL')"
   ]
  },
  {
   "cell_type": "code",
   "execution_count": 4,
   "id": "efadab7d",
   "metadata": {},
   "outputs": [
    {
     "name": "stdout",
     "output_type": "stream",
     "text": [
      "                              timestamp  indicator\n",
      "date                                              \n",
      "2023-02-10 20:00:00 2023-02-10 20:00:00        NaN\n",
      "2023-02-10 19:45:00 2023-02-10 19:45:00        NaN\n",
      "2023-02-10 19:30:00 2023-02-10 19:30:00        NaN\n",
      "2023-02-10 19:15:00 2023-02-10 19:15:00        NaN\n",
      "2023-02-10 19:00:00 2023-02-10 19:00:00   94.62800\n",
      "...                                 ...        ...\n",
      "2023-02-09 12:15:00 2023-02-09 12:15:00   94.03100\n",
      "2023-02-09 12:00:00 2023-02-09 12:00:00   94.02100\n",
      "2023-02-09 11:45:00 2023-02-09 11:45:00   94.07500\n",
      "2023-02-09 11:30:00 2023-02-09 11:30:00   94.26502\n",
      "2023-02-09 11:15:00 2023-02-09 11:15:00   94.45102\n",
      "\n",
      "[100 rows x 2 columns]\n"
     ]
    }
   ],
   "source": [
    "df = script_data.intraday_df\n",
    "indicator_df = script_data.indicator1(df, 5)"
   ]
  },
  {
   "cell_type": "code",
   "execution_count": 5,
   "id": "0687cf1c",
   "metadata": {},
   "outputs": [
    {
     "name": "stdout",
     "output_type": "stream",
     "text": [
      "                              timestamp  indicator\n",
      "date                                              \n",
      "2023-02-10 20:00:00 2023-02-10 20:00:00        NaN\n",
      "2023-02-10 19:45:00 2023-02-10 19:45:00        NaN\n",
      "2023-02-10 19:30:00 2023-02-10 19:30:00        NaN\n",
      "2023-02-10 19:15:00 2023-02-10 19:15:00        NaN\n",
      "2023-02-10 19:00:00 2023-02-10 19:00:00  212.69600\n",
      "...                                 ...        ...\n",
      "2023-02-09 12:15:00 2023-02-09 12:15:00  227.26500\n",
      "2023-02-09 12:00:00 2023-02-09 12:00:00  227.92782\n",
      "2023-02-09 11:45:00 2023-02-09 11:45:00  228.67382\n",
      "2023-02-09 11:30:00 2023-02-09 11:30:00  229.13180\n",
      "2023-02-09 11:15:00 2023-02-09 11:15:00  229.27802\n",
      "\n",
      "[100 rows x 2 columns]\n",
      "                              timestamp     signal\n",
      "date                                              \n",
      "2023-02-10 20:00:00 2023-02-10 20:00:00  NO_SIGNAL\n",
      "2023-02-10 19:45:00 2023-02-10 19:45:00  NO_SIGNAL\n",
      "2023-02-10 19:30:00 2023-02-10 19:30:00  NO_SIGNAL\n",
      "2023-02-10 19:15:00 2023-02-10 19:15:00  NO_SIGNAL\n",
      "2023-02-10 19:00:00 2023-02-10 19:00:00  NO_SIGNAL\n",
      "...                                 ...        ...\n",
      "2023-02-09 12:30:00 2023-02-09 12:30:00  NO_SIGNAL\n",
      "2023-02-09 12:15:00 2023-02-09 12:15:00  NO_SIGNAL\n",
      "2023-02-09 12:00:00 2023-02-09 12:00:00  NO_SIGNAL\n",
      "2023-02-09 11:45:00 2023-02-09 11:45:00        BUY\n",
      "2023-02-09 11:30:00 2023-02-09 11:30:00       SELL\n",
      "\n",
      "[99 rows x 2 columns]\n"
     ]
    }
   ],
   "source": [
    "strategy = Strategy('NVDA')\n",
    "signals = strategy.generate_signals()\n",
    "print(signals)"
   ]
  },
  {
   "cell_type": "code",
   "execution_count": null,
   "id": "fb4f3486",
   "metadata": {},
   "outputs": [],
   "source": []
  }
 ],
 "metadata": {
  "kernelspec": {
   "display_name": "Python 3 (ipykernel)",
   "language": "python",
   "name": "python3"
  },
  "language_info": {
   "codemirror_mode": {
    "name": "ipython",
    "version": 3
   },
   "file_extension": ".py",
   "mimetype": "text/x-python",
   "name": "python",
   "nbconvert_exporter": "python",
   "pygments_lexer": "ipython3",
   "version": "3.10.9"
  }
 },
 "nbformat": 4,
 "nbformat_minor": 5
}
